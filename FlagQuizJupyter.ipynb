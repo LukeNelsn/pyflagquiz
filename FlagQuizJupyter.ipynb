{
 "cells": [
  {
   "cell_type": "markdown",
   "metadata": {},
   "source": [
    "## Flag Quiz - Jupyter!"
   ]
  },
  {
   "cell_type": "code",
   "execution_count": null,
   "metadata": {},
   "outputs": [],
   "source": [
    "# flags of the world quiz\n",
    "import random \n",
    "import json\n",
    "from PIL import Image\n",
    "import glob\n",
    "import matplotlib.pyplot as plt\n",
    "from matplotlib.pyplot import figure\n",
    "import matplotlib.image as mpimg\n",
    "from IPython.display import clear_output\n",
    "import time\n",
    "figure(figsize=(1,1), dpi=300)\n",
    "countriesDICT = json.load(open('countries.json'))\n",
    "class color:\n",
    "   PURPLE = '\\033[95m'\n",
    "   CYAN = '\\033[96m'\n",
    "   DARKCYAN = '\\033[36m'\n",
    "   BLUE = '\\033[94m'\n",
    "   GREEN = '\\033[92m'\n",
    "   YELLOW = '\\033[93m'\n",
    "   RED = '\\033[91m'\n",
    "   BOLD = '\\033[1m'\n",
    "   UNDERLINE = '\\033[4m'\n",
    "   END = '\\033[0m'\n",
    "score = 0\n",
    "count = 0 \n",
    "image_list = [] \n",
    "for image in glob.glob('png1000px/*.png'):\n",
    "    i = Image.open(image)\n",
    "    image_list.append(i) \n",
    "print(color.BOLD + color.DARKCYAN + '\\nFLAG QUIZ\\n' + color.END)\n",
    "def flagQuiz():\n",
    "    clear_output(wait=True)\n",
    "    global score, count\n",
    "    print(color.BLUE + 'Score: ' + str(score) + '/' + str(count) + color.END)\n",
    "    uniqueCountries = random.sample(list(countriesDICT.items()),4)\n",
    "    randList = random.sample([0,1,2,3], 4)\n",
    "    print('1.',uniqueCountries[randList[0]][1],'\\n'\n",
    "            '2.',uniqueCountries[randList[1]][1],'\\n'\n",
    "            '3.',uniqueCountries[randList[2]][1],'\\n'\n",
    "            '4.',uniqueCountries[randList[3]][1],'\\n')\n",
    "    optionsDict = {1:uniqueCountries[randList[0]][1],2:uniqueCountries[randList[1]][1],3:uniqueCountries[randList[2]][1],4:uniqueCountries[randList[3]][1]}\n",
    "    imgplot = plt.imshow(mpimg.imread('png1000px/'+str(uniqueCountries[0][0].lower())+'.png'))    \n",
    "    plt.axis('off')\n",
    "    plt.show()\n",
    "    while True:\n",
    "        try:\n",
    "            playerGuess = input('Guess (enter \"n\" to exit): ')\n",
    "            if playerGuess == 'n':\n",
    "                print('\\n' + color.BOLD + color.BLUE + 'Final Score: ' + str(score) + '/' + str(count) + color.END)\n",
    "                exit()\n",
    "            elif int(playerGuess) < 0:\n",
    "                raise ValueError\n",
    "            elif int(playerGuess) > 4:\n",
    "                raise ValueError\n",
    "            count += 1\n",
    "            break\n",
    "        except ValueError:\n",
    "            print(color.YELLOW + 'Guess must be between 1 & 4' + color.END)\n",
    "    if optionsDict[int(playerGuess)] == uniqueCountries[0][1]:\n",
    "        score += 1     \n",
    "        print(color.GREEN + color.BOLD + '\\n' + uniqueCountries[0][1] + color.END)\n",
    "    else:\n",
    "        print(color.RED + color.BOLD + '\\n' + optionsDict[int(playerGuess)] + color.END, '\\n' +\n",
    "        color.GREEN + color.BOLD + uniqueCountries[0][1] + color.END, '\\n')\n",
    "    time.sleep(3)\n",
    "    flagQuiz()        \n",
    "flagQuiz()\n",
    "\n",
    "# change color of original options set, rather than printing colored correct / incorrec options"
   ]
  }
 ],
 "metadata": {
  "kernelspec": {
   "display_name": "Python 3.9.0 64-bit",
   "language": "python",
   "name": "python3"
  },
  "language_info": {
   "codemirror_mode": {
    "name": "ipython",
    "version": 3
   },
   "file_extension": ".py",
   "mimetype": "text/x-python",
   "name": "python",
   "nbconvert_exporter": "python",
   "pygments_lexer": "ipython3",
   "version": "3.9.0"
  },
  "orig_nbformat": 4,
  "vscode": {
   "interpreter": {
    "hash": "1ce009c102672704d83929721ababf55feb1d8ce471d0290721f61741b5b313a"
   }
  }
 },
 "nbformat": 4,
 "nbformat_minor": 2
}
